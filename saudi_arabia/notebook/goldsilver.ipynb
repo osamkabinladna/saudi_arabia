{
 "cells": [
  {
   "cell_type": "code",
   "id": "initial_id",
   "metadata": {
    "collapsed": true,
    "ExecuteTime": {
     "end_time": "2025-06-04T17:53:32.058585Z",
     "start_time": "2025-06-04T17:53:31.475862Z"
    }
   },
   "source": [
    "import sys\n",
    "\n",
    "import pandas as pd\n",
    "import numpy as np\n",
    "from pathlib import Path\n",
    "import os\n",
    "\n",
    "root = Path().resolve().parent.parent\n",
    "sys.path.append(root)\n",
    "root\n",
    "\n",
    "from saudi_arabia.strats.hurst import HurstGoldSilverStrategy\n"
   ],
   "outputs": [],
   "execution_count": 1
  },
  {
   "metadata": {
    "ExecuteTime": {
     "end_time": "2025-06-04T17:53:32.170757Z",
     "start_time": "2025-06-04T17:53:32.139451Z"
    }
   },
   "cell_type": "code",
   "source": [
    "data = pd.read_csv(root / 'data' / 'goldsilver.csv', index_col=0)\n",
    "data = data.iloc[:,:2]\n",
    "data"
   ],
   "id": "8ff6e1e1dc7c9f47",
   "outputs": [
    {
     "data": {
      "text/plain": [
       "                   Gold    Silver\n",
       "Dates                            \n",
       "18.11.24 00:00  2568.13  30.30300\n",
       "18.11.24 00:05  2570.71  30.33650\n",
       "18.11.24 00:10  2572.75  30.35825\n",
       "18.11.24 00:15  2572.39  30.36550\n",
       "18.11.24 00:20  2575.55  30.38650\n",
       "...                 ...       ...\n",
       "NaN                 NaN       NaN\n",
       "NaN                 NaN       NaN\n",
       "NaN                 NaN       NaN\n",
       "NaN                 NaN       NaN\n",
       "NaN                 NaN       NaN\n",
       "\n",
       "[37952 rows x 2 columns]"
      ],
      "text/html": [
       "<div>\n",
       "<style scoped>\n",
       "    .dataframe tbody tr th:only-of-type {\n",
       "        vertical-align: middle;\n",
       "    }\n",
       "\n",
       "    .dataframe tbody tr th {\n",
       "        vertical-align: top;\n",
       "    }\n",
       "\n",
       "    .dataframe thead th {\n",
       "        text-align: right;\n",
       "    }\n",
       "</style>\n",
       "<table border=\"1\" class=\"dataframe\">\n",
       "  <thead>\n",
       "    <tr style=\"text-align: right;\">\n",
       "      <th></th>\n",
       "      <th>Gold</th>\n",
       "      <th>Silver</th>\n",
       "    </tr>\n",
       "    <tr>\n",
       "      <th>Dates</th>\n",
       "      <th></th>\n",
       "      <th></th>\n",
       "    </tr>\n",
       "  </thead>\n",
       "  <tbody>\n",
       "    <tr>\n",
       "      <th>18.11.24 00:00</th>\n",
       "      <td>2568.13</td>\n",
       "      <td>30.30300</td>\n",
       "    </tr>\n",
       "    <tr>\n",
       "      <th>18.11.24 00:05</th>\n",
       "      <td>2570.71</td>\n",
       "      <td>30.33650</td>\n",
       "    </tr>\n",
       "    <tr>\n",
       "      <th>18.11.24 00:10</th>\n",
       "      <td>2572.75</td>\n",
       "      <td>30.35825</td>\n",
       "    </tr>\n",
       "    <tr>\n",
       "      <th>18.11.24 00:15</th>\n",
       "      <td>2572.39</td>\n",
       "      <td>30.36550</td>\n",
       "    </tr>\n",
       "    <tr>\n",
       "      <th>18.11.24 00:20</th>\n",
       "      <td>2575.55</td>\n",
       "      <td>30.38650</td>\n",
       "    </tr>\n",
       "    <tr>\n",
       "      <th>...</th>\n",
       "      <td>...</td>\n",
       "      <td>...</td>\n",
       "    </tr>\n",
       "    <tr>\n",
       "      <th>NaN</th>\n",
       "      <td>NaN</td>\n",
       "      <td>NaN</td>\n",
       "    </tr>\n",
       "    <tr>\n",
       "      <th>NaN</th>\n",
       "      <td>NaN</td>\n",
       "      <td>NaN</td>\n",
       "    </tr>\n",
       "    <tr>\n",
       "      <th>NaN</th>\n",
       "      <td>NaN</td>\n",
       "      <td>NaN</td>\n",
       "    </tr>\n",
       "    <tr>\n",
       "      <th>NaN</th>\n",
       "      <td>NaN</td>\n",
       "      <td>NaN</td>\n",
       "    </tr>\n",
       "    <tr>\n",
       "      <th>NaN</th>\n",
       "      <td>NaN</td>\n",
       "      <td>NaN</td>\n",
       "    </tr>\n",
       "  </tbody>\n",
       "</table>\n",
       "<p>37952 rows × 2 columns</p>\n",
       "</div>"
      ]
     },
     "execution_count": 2,
     "metadata": {},
     "output_type": "execute_result"
    }
   ],
   "execution_count": 2
  },
  {
   "metadata": {
    "jupyter": {
     "is_executing": true
    },
    "ExecuteTime": {
     "start_time": "2025-06-04T17:53:32.198200Z"
    }
   },
   "cell_type": "code",
   "source": [
    "strategy = HurstGoldSilverStrategy(initial_capital=100000)\n",
    "results, metrics = strategy.backtest(data)\n",
    "print(f\"Sharpe Ratio: {metrics['sharpe_ratio']:.2f}\")\n",
    "print(f\"Total P&L: ${metrics['total_pnl']:.2f}\")"
   ],
   "id": "ecc2e2fe40c481e8",
   "outputs": [],
   "execution_count": null
  },
  {
   "metadata": {},
   "cell_type": "code",
   "source": "",
   "id": "fd46b834c8f49a44",
   "outputs": [],
   "execution_count": null
  }
 ],
 "metadata": {
  "kernelspec": {
   "display_name": "Python 3",
   "language": "python",
   "name": "python3"
  },
  "language_info": {
   "codemirror_mode": {
    "name": "ipython",
    "version": 2
   },
   "file_extension": ".py",
   "mimetype": "text/x-python",
   "name": "python",
   "nbconvert_exporter": "python",
   "pygments_lexer": "ipython2",
   "version": "2.7.6"
  }
 },
 "nbformat": 4,
 "nbformat_minor": 5
}
