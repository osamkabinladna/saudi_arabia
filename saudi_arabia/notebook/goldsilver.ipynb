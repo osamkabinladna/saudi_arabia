{
 "cells": [
  {
   "cell_type": "code",
   "id": "initial_id",
   "metadata": {
    "collapsed": true,
    "ExecuteTime": {
     "end_time": "2025-06-04T18:00:02.035987Z",
     "start_time": "2025-06-04T18:00:01.446081Z"
    }
   },
   "source": [
    "import sys\n",
    "from pathlib import Path\n",
    "root = Path().resolve().parent.parent\n",
    "sys.path.append(root)\n",
    "\n",
    "\n",
    "import pandas as pd\n",
    "from saudi_arabia.strats.hurst import HurstGoldSilverStrategy"
   ],
   "outputs": [],
   "execution_count": 1
  },
  {
   "metadata": {
    "ExecuteTime": {
     "end_time": "2025-06-04T18:00:04.901600Z",
     "start_time": "2025-06-04T18:00:04.228851Z"
    }
   },
   "cell_type": "code",
   "source": [
    "data = pd.read_csv(root / 'data' / 'goldsilver.csv', index_col=0)\n",
    "data = data.iloc[:,:2]\n",
    "data.index = pd.to_datetime(data.index)\n",
    "data.dropna(how='all', inplace=True)"
   ],
   "id": "8ff6e1e1dc7c9f47",
   "outputs": [],
   "execution_count": 2
  },
  {
   "metadata": {
    "ExecuteTime": {
     "end_time": "2025-06-04T18:14:39.922560Z",
     "start_time": "2025-06-04T18:02:49.370043Z"
    }
   },
   "cell_type": "code",
   "source": [
    "strategy = HurstGoldSilverStrategy(initial_capital=100_000,\n",
    "                                   hurst_window=500,\n",
    "                                   hurst_threshold=0.3,\n",
    "                                   transaction_cost=0.0,\n",
    "                                   signal_window=300)\n",
    "\n",
    "results, metrics = strategy.backtest(data)\n",
    "print(f\"Sharpe Ratio: {metrics['sharpe_ratio']:.2f}\")\n",
    "print(f\"Total P&L: ${metrics['total_pnl']:.2f}\")"
   ],
   "id": "ecc2e2fe40c481e8",
   "outputs": [
    {
     "name": "stdout",
     "output_type": "stream",
     "text": [
      "Sharpe Ratio: -0.08\n",
      "Total P&L: $-129.88\n"
     ]
    }
   ],
   "execution_count": 5
  }
 ],
 "metadata": {
  "kernelspec": {
   "display_name": "Python 3",
   "language": "python",
   "name": "python3"
  },
  "language_info": {
   "codemirror_mode": {
    "name": "ipython",
    "version": 2
   },
   "file_extension": ".py",
   "mimetype": "text/x-python",
   "name": "python",
   "nbconvert_exporter": "python",
   "pygments_lexer": "ipython2",
   "version": "2.7.6"
  }
 },
 "nbformat": 4,
 "nbformat_minor": 5
}
