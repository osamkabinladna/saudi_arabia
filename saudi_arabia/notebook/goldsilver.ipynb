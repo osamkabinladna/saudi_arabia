{
 "cells": [
  {
   "cell_type": "code",
   "id": "initial_id",
   "metadata": {
    "collapsed": true,
    "ExecuteTime": {
     "end_time": "2025-06-04T16:59:17.748734Z",
     "start_time": "2025-06-04T16:59:17.385470Z"
    }
   },
   "source": [
    "import sys\n",
    "\n",
    "import pandas as pd\n",
    "import numpy as np\n",
    "from pathlib import Path\n",
    "import os\n",
    "\n",
    "root = Path().resolve().parent.parent\n",
    "sys.path.append(root)\n",
    "root\n",
    "\n",
    "from saudi_arabia.strats.indicators import HurstGoldSilverStrategy\n"
   ],
   "outputs": [],
   "execution_count": 1
  },
  {
   "metadata": {
    "ExecuteTime": {
     "end_time": "2025-06-04T16:59:20.211929Z",
     "start_time": "2025-06-04T16:59:20.165139Z"
    }
   },
   "cell_type": "code",
   "source": [
    "data = pd.read_csv(root / 'data' / 'goldsilver.csv', index_col=0)\n",
    "data = data.iloc[:,:2]\n",
    "data"
   ],
   "id": "8ff6e1e1dc7c9f47",
   "outputs": [
    {
     "data": {
      "text/plain": [
       "                   Gold    Silver\n",
       "Dates                            \n",
       "18.11.24 00:00  2568.13  30.30300\n",
       "18.11.24 00:05  2570.71  30.33650\n",
       "18.11.24 00:10  2572.75  30.35825\n",
       "18.11.24 00:15  2572.39  30.36550\n",
       "18.11.24 00:20  2575.55  30.38650\n",
       "...                 ...       ...\n",
       "NaN                 NaN       NaN\n",
       "NaN                 NaN       NaN\n",
       "NaN                 NaN       NaN\n",
       "NaN                 NaN       NaN\n",
       "NaN                 NaN       NaN\n",
       "\n",
       "[37952 rows x 2 columns]"
      ],
      "text/html": [
       "<div>\n",
       "<style scoped>\n",
       "    .dataframe tbody tr th:only-of-type {\n",
       "        vertical-align: middle;\n",
       "    }\n",
       "\n",
       "    .dataframe tbody tr th {\n",
       "        vertical-align: top;\n",
       "    }\n",
       "\n",
       "    .dataframe thead th {\n",
       "        text-align: right;\n",
       "    }\n",
       "</style>\n",
       "<table border=\"1\" class=\"dataframe\">\n",
       "  <thead>\n",
       "    <tr style=\"text-align: right;\">\n",
       "      <th></th>\n",
       "      <th>Gold</th>\n",
       "      <th>Silver</th>\n",
       "    </tr>\n",
       "    <tr>\n",
       "      <th>Dates</th>\n",
       "      <th></th>\n",
       "      <th></th>\n",
       "    </tr>\n",
       "  </thead>\n",
       "  <tbody>\n",
       "    <tr>\n",
       "      <th>18.11.24 00:00</th>\n",
       "      <td>2568.13</td>\n",
       "      <td>30.30300</td>\n",
       "    </tr>\n",
       "    <tr>\n",
       "      <th>18.11.24 00:05</th>\n",
       "      <td>2570.71</td>\n",
       "      <td>30.33650</td>\n",
       "    </tr>\n",
       "    <tr>\n",
       "      <th>18.11.24 00:10</th>\n",
       "      <td>2572.75</td>\n",
       "      <td>30.35825</td>\n",
       "    </tr>\n",
       "    <tr>\n",
       "      <th>18.11.24 00:15</th>\n",
       "      <td>2572.39</td>\n",
       "      <td>30.36550</td>\n",
       "    </tr>\n",
       "    <tr>\n",
       "      <th>18.11.24 00:20</th>\n",
       "      <td>2575.55</td>\n",
       "      <td>30.38650</td>\n",
       "    </tr>\n",
       "    <tr>\n",
       "      <th>...</th>\n",
       "      <td>...</td>\n",
       "      <td>...</td>\n",
       "    </tr>\n",
       "    <tr>\n",
       "      <th>NaN</th>\n",
       "      <td>NaN</td>\n",
       "      <td>NaN</td>\n",
       "    </tr>\n",
       "    <tr>\n",
       "      <th>NaN</th>\n",
       "      <td>NaN</td>\n",
       "      <td>NaN</td>\n",
       "    </tr>\n",
       "    <tr>\n",
       "      <th>NaN</th>\n",
       "      <td>NaN</td>\n",
       "      <td>NaN</td>\n",
       "    </tr>\n",
       "    <tr>\n",
       "      <th>NaN</th>\n",
       "      <td>NaN</td>\n",
       "      <td>NaN</td>\n",
       "    </tr>\n",
       "    <tr>\n",
       "      <th>NaN</th>\n",
       "      <td>NaN</td>\n",
       "      <td>NaN</td>\n",
       "    </tr>\n",
       "  </tbody>\n",
       "</table>\n",
       "<p>37952 rows × 2 columns</p>\n",
       "</div>"
      ]
     },
     "execution_count": 2,
     "metadata": {},
     "output_type": "execute_result"
    }
   ],
   "execution_count": 2
  },
  {
   "metadata": {
    "ExecuteTime": {
     "end_time": "2025-06-04T16:59:30.140759Z",
     "start_time": "2025-06-04T16:59:30.132414Z"
    }
   },
   "cell_type": "code",
   "source": [
    "def run_backtest_example(data):\n",
    "    strategy = HurstGoldSilverStrategy(\n",
    "        hurst_window=100,\n",
    "        signal_window=20,\n",
    "        hurst_threshold=0.45,  # More conservative threshold\n",
    "        zscore_entry=2.0,\n",
    "        zscore_exit=0.5,\n",
    "        transaction_cost=0.0001\n",
    "    )\n",
    "\n",
    "    # Run backtest\n",
    "    results, metrics = strategy.backtest(data)\n",
    "\n",
    "    # Print results\n",
    "    print(\"=== Backtest Results ===\")\n",
    "    print(f\"Total Return: {metrics['total_return']:.2%}\")\n",
    "    print(f\"Annual Return: {metrics['annual_return']:.2%}\")\n",
    "    print(f\"Volatility: {metrics['volatility']:.2%}\")\n",
    "    print(f\"Sharpe Ratio: {metrics['sharpe_ratio']:.2f}\")\n",
    "    print(f\"Max Drawdown: {metrics['max_drawdown']:.2%}\")\n",
    "    print(f\"Number of Trades: {metrics['num_trades']}\")\n",
    "    print(f\"Win Rate: {metrics['win_rate']:.2%}\")\n",
    "    print(f\"Mean Hurst Exponent: {metrics['mean_hurst']:.3f}\")\n",
    "    print(f\"Mean Reverting Regime %: {metrics['mean_reverting_regime_pct']:.1f}%\")\n",
    "\n",
    "    return results, metrics\n"
   ],
   "id": "ecc2e2fe40c481e8",
   "outputs": [],
   "execution_count": 3
  },
  {
   "metadata": {
    "ExecuteTime": {
     "end_time": "2025-06-04T17:02:39.532757Z",
     "start_time": "2025-06-04T17:00:09.644184Z"
    }
   },
   "cell_type": "code",
   "source": "results, metrics = run_backtest_example(data)",
   "id": "c147f345bd27c79b",
   "outputs": [
    {
     "name": "stdout",
     "output_type": "stream",
     "text": [
      "=== Backtest Results ===\n",
      "Total Return: -22.25%\n",
      "Annual Return: -38.20%\n",
      "Volatility: 14.67%\n",
      "Sharpe Ratio: -2.60\n",
      "Max Drawdown: -36.10%\n",
      "Number of Trades: 2668\n",
      "Win Rate: 12.59%\n",
      "Mean Hurst Exponent: 0.339\n",
      "Mean Reverting Regime %: 75.4%\n"
     ]
    }
   ],
   "execution_count": 6
  },
  {
   "metadata": {},
   "cell_type": "code",
   "outputs": [],
   "execution_count": null,
   "source": "",
   "id": "fd46b834c8f49a44"
  }
 ],
 "metadata": {
  "kernelspec": {
   "display_name": "Python 3",
   "language": "python",
   "name": "python3"
  },
  "language_info": {
   "codemirror_mode": {
    "name": "ipython",
    "version": 2
   },
   "file_extension": ".py",
   "mimetype": "text/x-python",
   "name": "python",
   "nbconvert_exporter": "python",
   "pygments_lexer": "ipython2",
   "version": "2.7.6"
  }
 },
 "nbformat": 4,
 "nbformat_minor": 5
}
